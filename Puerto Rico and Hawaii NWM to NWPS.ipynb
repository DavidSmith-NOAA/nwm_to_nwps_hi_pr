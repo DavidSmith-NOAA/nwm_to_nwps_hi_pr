{
 "cells": [
  {
   "cell_type": "code",
   "execution_count": 67,
   "id": "e451792c",
   "metadata": {},
   "outputs": [],
   "source": [
    "import numpy as np\n",
    "import pandas as pd\n",
    "import requests\n",
    "import matplotlib.pyplot as plt\n",
    "import geopandas as gpd\n",
    "import pandas as pd\n",
    "from shapely.geometry import Point\n",
    "import os"
   ]
  },
  {
   "cell_type": "code",
   "execution_count": 68,
   "id": "f0bc019d",
   "metadata": {},
   "outputs": [],
   "source": [
    "#Pull in crosswalk with nws.usgs, and nwm id and hefs flood thresholds in flow\n",
    "sites = pd.read_csv('gage_id_nwm_feature_id_crosswalk.csv')\n",
    "thresholds = pd.read_csv('threshold_data.csv')"
   ]
  },
  {
   "cell_type": "code",
   "execution_count": 69,
   "id": "ed173a56",
   "metadata": {},
   "outputs": [],
   "source": [
    "#Creating a common key name for merging with the sites dataframe\n",
    "thresholds['nws_station_id'] = thresholds['lid']\n",
    "\n",
    "# Merge dataframes on the common column (nws_station_id)\n",
    "nwm_ahps = pd.merge(sites, thresholds, on='nws_station_id', how='inner')  # You need to replace 'key' with the actual common column name\n",
    "\n",
    "#Longitude needs to be converted to negative\n",
    "nwm_ahps['longitude'] = nwm_ahps['longitude']*-1\n",
    "\n",
    "#Drop NaN values. Without IDs we will not be able to pull data for them. Unlikley to be very many.\n",
    "nwm_ahps.dropna(subset=['nws_station_id', 'gage_id', 'nwm_feature_id', 'crosswalk_source'], inplace=True)\n",
    "\n",
    "#This line filters out the rows that are not Hawaii ot Puerto Rico Sites.\n",
    "nwm_ahps = nwm_ahps.loc[(nwm_ahps['state_abbreviation'] ==  'HI')|(nwm_ahps['state_abbreviation'] ==  'PR')]\n",
    "\n",
    "#Testing feature to shorten the number of sites for qicker testing\n",
    "#nwm_ahps = nwm_ahps.head(50).copy()"
   ]
  },
  {
   "cell_type": "code",
   "execution_count": 70,
   "id": "90efb1f0",
   "metadata": {},
   "outputs": [],
   "source": [
    "# Function to fetch maximum flow from API for a given station ID\n",
    "def get_max_flow(nwm_id):\n",
    "    try:\n",
    "        # API URL\n",
    "        api_url = f'https://testing-api.water.noaa.gov/nwps/v1/reaches/{nwm_id}/streamflow?series=short_range'\n",
    "        \n",
    "        # Send a GET request to the API URL\n",
    "        response = requests.get(api_url)\n",
    "        \n",
    "        # Check if the request was successful (status code 200)\n",
    "        if response.status_code == 200:\n",
    "            # Extract JSON data from the response\n",
    "            json_data = response.json()\n",
    "            \n",
    "            # Extract the 'mediumRange' data from the JSON\n",
    "            #medium_range_data = json_data.get('mediumRangeBlend', {})\n",
    "            \n",
    "            # Extract the 'mediumRangeBlend' data from the JSON\n",
    "            medium_range_blend = json_data.get('shortRange', {})\n",
    "            \n",
    "            # Extract the 'series' data from 'mediumRangeBlend'\n",
    "            series_data = medium_range_blend.get('series', {})\n",
    "        \n",
    "            # Extract the 'data' from 'series'\n",
    "            data = series_data.get('data', [])\n",
    "            \n",
    "            # Convert the list of dictionaries into a pandas DataFrame\n",
    "            df = pd.DataFrame(data)\n",
    "            \n",
    "            # Find the maximum flow\n",
    "            max_flow = df['flow'].max()\n",
    "            \n",
    "            return max_flow\n",
    "        else:\n",
    "            print(f'Failed to fetch data from the API for station ID {nwm_id}. Status code:', response.status_code)\n",
    "            return None\n",
    "    except Exception as e:\n",
    "        print(f'An error occurred while fetching data for station ID {nwm_id}:', str(e))\n",
    "        return None\n",
    "\n",
    "# Create a new column 'max_flow' in nwm_ahps\n",
    "nwm_ahps['max_flow'] = nwm_ahps['nwm_feature_id'].apply(get_max_flow)"
   ]
  },
  {
   "cell_type": "code",
   "execution_count": 71,
   "id": "85c560a8",
   "metadata": {},
   "outputs": [],
   "source": [
    "# Apply a lambda function to each row to find the nearest column\n",
    "nwm_ahps['status'] = nwm_ahps.apply(lambda row: min(['action_flow_y', 'minor_flow_y', 'moderate_flow_y', 'major_flow_y'], \n",
    "                                                    key=lambda col: abs(row[col] - row['max_flow'])) \n",
    "                                     if any(row[col] < row['max_flow'] for col in ['action_flow_y', 'minor_flow_y', 'moderate_flow_y', 'major_flow_y'])\n",
    "                                     else 'none', \n",
    "                                     axis=1)"
   ]
  },
  {
   "cell_type": "code",
   "execution_count": 72,
   "id": "bf0ea010",
   "metadata": {},
   "outputs": [],
   "source": [
    "nwm_ahps.to_csv('delete.csv')"
   ]
  },
  {
   "cell_type": "code",
   "execution_count": 73,
   "id": "c7464434",
   "metadata": {},
   "outputs": [],
   "source": [
    "# Convert data to DataFrame\n",
    "df = pd.DataFrame(nwm_ahps)\n",
    "geometry = [Point(xy) for xy in zip(df['longitude'], df['latitude'])]\n",
    "gdf = gpd.GeoDataFrame(df, geometry=geometry)\n",
    "\n",
    "# Load world and state shapefiles\n",
    "world = gpd.read_file(gpd.datasets.get_path('naturalearth_lowres'))\n",
    "us_states = gpd.read_file(os.path.join(os.getcwd(), 's_08mr23/s_08mr23.shp'))\n",
    "\n",
    "# Filter data for Hawaii and Puerto Rico\n",
    "gdf_hawaii = gdf[gdf['state_abbreviation'] == 'HI']\n",
    "gdf_pr = gdf[gdf['state_abbreviation'] == 'PR']\n",
    "\n",
    "# Plot for Hawaii\n",
    "fig, ax = plt.subplots(figsize=(12, 8))\n",
    "hawaii = us_states[us_states['STATE'] == 'HI']\n",
    "hawaii.plot(ax=ax, color='lightgray', edgecolor='black')\n",
    "gdf_hawaii.plot(ax=ax, color='blue', markersize=100, alpha=0.7)\n",
    "ax.set_xlim([-161, -154])\n",
    "ax.set_ylim([18.5, 23.0]) # Adjusted to include smaller islands\n",
    "ax.set_title('NBM-Forced NWM Informed AHPS - Hawaii')\n",
    "plt.savefig('nbm_nwm_ahps_hawaii.png', dpi=300, bbox_inches='tight')\n",
    "plt.close()\n",
    "\n",
    "# Plot for Puerto Rico\n",
    "fig, ax = plt.subplots(figsize=(12, 8))\n",
    "pr = us_states[us_states['STATE'] == 'PR']\n",
    "pr.plot(ax=ax, color='lightgray', edgecolor='black')\n",
    "gdf_pr.plot(ax=ax, color='blue', markersize=100, alpha=0.7)\n",
    "ax.set_xlim([-67.5, -65.5])\n",
    "ax.set_ylim([17.8, 18.6])\n",
    "ax.set_title('NBM-Forced NWM Informed AHPS - Puerto Rico')\n",
    "plt.savefig('nbm_nwm_ahps_puerto_rico.png', dpi=300, bbox_inches='tight')\n",
    "plt.close()\n"
   ]
  },
  {
   "cell_type": "code",
   "execution_count": null,
   "id": "a0c56185",
   "metadata": {},
   "outputs": [],
   "source": []
  },
  {
   "cell_type": "code",
   "execution_count": null,
   "id": "43f510e0",
   "metadata": {},
   "outputs": [],
   "source": []
  },
  {
   "cell_type": "code",
   "execution_count": null,
   "id": "dc07f6c1",
   "metadata": {},
   "outputs": [],
   "source": []
  }
 ],
 "metadata": {
  "kernelspec": {
   "display_name": "Python 3 (ipykernel)",
   "language": "python",
   "name": "python3"
  },
  "language_info": {
   "codemirror_mode": {
    "name": "ipython",
    "version": 3
   },
   "file_extension": ".py",
   "mimetype": "text/x-python",
   "name": "python",
   "nbconvert_exporter": "python",
   "pygments_lexer": "ipython3",
   "version": "3.9.12"
  }
 },
 "nbformat": 4,
 "nbformat_minor": 5
}
