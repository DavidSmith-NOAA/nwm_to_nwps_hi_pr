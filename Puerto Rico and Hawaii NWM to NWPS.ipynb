{
 "cells": [
  {
   "cell_type": "code",
   "execution_count": 88,
   "id": "4603f34c",
   "metadata": {},
   "outputs": [],
   "source": [
    "import numpy as np\n",
    "import pandas as pd\n",
    "import requests\n",
    "import matplotlib.pyplot as plt\n",
    "import geopandas as gpd\n",
    "import pandas as pd\n",
    "from shapely.geometry import Point\n",
    "import os"
   ]
  },
  {
   "cell_type": "code",
   "execution_count": 89,
   "id": "a9f39307",
   "metadata": {},
   "outputs": [],
   "source": [
    "#Pull in crosswalk with nws.usgs, and nwm id and hefs flood thresholds in flow\n",
    "sites = pd.read_csv('gage_id_nwm_feature_id_crosswalk.csv')\n",
    "thresholds = pd.read_csv('threshold_data.csv')"
   ]
  },
  {
   "cell_type": "code",
   "execution_count": 90,
   "id": "56e11a9b",
   "metadata": {},
   "outputs": [],
   "source": [
    "#Creating a common key name for merging with the sites dataframe\n",
    "thresholds['nws_station_id'] = thresholds['lid']\n",
    "\n",
    "# Merge dataframes on the common column (nws_station_id)\n",
    "nwm_nwps = pd.merge(sites, thresholds, on='nws_station_id', how='inner')  # You need to replace 'key' with the actual common column name\n",
    "\n",
    "#Longitude needs to be converted to negative\n",
    "nwm_nwps['longitude'] = nwm_nwps['longitude']*-1\n",
    "\n",
    "#Drop NaN values. Without IDs we will not be able to pull data for them. Unlikley to be very many.\n",
    "nwm_nwps.dropna(subset=['nws_station_id', 'gage_id', 'nwm_feature_id', 'crosswalk_source'], inplace=True)\n",
    "\n",
    "#This line filters out the rows that are not Hawaii ot Puerto Rico Sites.\n",
    "nwm_nwps = nwm_nwps.loc[(nwm_nwps['state_abbreviation'] ==  'HI')|(nwm_nwps['state_abbreviation'] ==  'PR')]\n",
    "\n",
    "#Testing feature to shorten the number of sites for qicker testing\n",
    "#nwm_nwps = nwm_nwps.head(50).copy()"
   ]
  },
  {
   "cell_type": "code",
   "execution_count": 91,
   "id": "f8609b1c",
   "metadata": {},
   "outputs": [],
   "source": [
    "# Function to fetch maximum flow from API for a given station ID\n",
    "def get_max_flow(nwm_id):\n",
    "    try:\n",
    "        # API URL\n",
    "        api_url = f'https://testing-api.water.noaa.gov/nwps/v1/reaches/{nwm_id}/streamflow?series=short_range'\n",
    "        \n",
    "        # Send a GET request to the API URL\n",
    "        response = requests.get(api_url)\n",
    "        \n",
    "        # Check if the request was successful (status code 200)\n",
    "        if response.status_code == 200:\n",
    "            # Extract JSON data from the response\n",
    "            json_data = response.json()\n",
    "            \n",
    "            # Extract the 'mediumRange' data from the JSON\n",
    "            #medium_range_data = json_data.get('mediumRangeBlend', {})\n",
    "            \n",
    "            # Extract the 'mediumRangeBlend' data from the JSON\n",
    "            medium_range_blend = json_data.get('shortRange', {})\n",
    "            \n",
    "            # Extract the 'series' data from 'mediumRangeBlend'\n",
    "            series_data = medium_range_blend.get('series', {})\n",
    "        \n",
    "            # Extract the 'data' from 'series'\n",
    "            data = series_data.get('data', [])\n",
    "            \n",
    "            # Convert the list of dictionaries into a pandas DataFrame\n",
    "            df = pd.DataFrame(data)\n",
    "            \n",
    "            # Find the maximum flow\n",
    "            max_flow = df['flow'].max()\n",
    "            \n",
    "            return max_flow\n",
    "        else:\n",
    "            print(f'Failed to fetch data from the API for station ID {nwm_id}. Status code:', response.status_code)\n",
    "            return None\n",
    "    except Exception as e:\n",
    "        print(f'An error occurred while fetching data for station ID {nwm_id}:', str(e))\n",
    "        return None\n",
    "\n",
    "# Create a new column 'max_flow' in nwm_nwps\n",
    "nwm_nwps['max_flow'] = nwm_nwps['nwm_feature_id'].apply(get_max_flow)"
   ]
  },
  {
   "cell_type": "code",
   "execution_count": 92,
   "id": "c0e97561",
   "metadata": {},
   "outputs": [],
   "source": [
    "# Apply a lambda function to each row to find the nearest column\n",
    "nwm_nwps['status'] = nwm_nwps.apply(lambda row: min(['action_flow_y', 'minor_flow_y', 'moderate_flow_y', 'major_flow_y'], \n",
    "                                                    key=lambda col: abs(row[col] - row['max_flow'])) \n",
    "                                     if any(row[col] < row['max_flow'] for col in ['action_flow_y', 'minor_flow_y', 'moderate_flow_y', 'major_flow_y'])\n",
    "                                     else 'none', \n",
    "                                     axis=1)"
   ]
  },
  {
   "cell_type": "code",
   "execution_count": 93,
   "id": "56a05740",
   "metadata": {},
   "outputs": [],
   "source": [
    "#nwm_nwps.to_csv('delete.csv')"
   ]
  },
  {
   "cell_type": "code",
   "execution_count": 94,
   "id": "b42b6e71",
   "metadata": {},
   "outputs": [
    {
     "name": "stderr",
     "output_type": "stream",
     "text": [
      "C:\\Users\\david.smith\\.conda\\envs\\dev2\\lib\\site-packages\\geopandas\\plotting.py:678: UserWarning: The GeoDataFrame you are attempting to plot is empty. Nothing has been displayed.\n",
      "  warnings.warn(\n",
      "C:\\Users\\david.smith\\.conda\\envs\\dev2\\lib\\site-packages\\geopandas\\plotting.py:678: UserWarning: The GeoDataFrame you are attempting to plot is empty. Nothing has been displayed.\n",
      "  warnings.warn(\n",
      "C:\\Users\\david.smith\\.conda\\envs\\dev2\\lib\\site-packages\\geopandas\\plotting.py:678: UserWarning: The GeoDataFrame you are attempting to plot is empty. Nothing has been displayed.\n",
      "  warnings.warn(\n",
      "C:\\Users\\david.smith\\.conda\\envs\\dev2\\lib\\site-packages\\geopandas\\plotting.py:678: UserWarning: The GeoDataFrame you are attempting to plot is empty. Nothing has been displayed.\n",
      "  warnings.warn(\n",
      "No artists with labels found to put in legend.  Note that artists whose label start with an underscore are ignored when legend() is called with no argument.\n",
      "C:\\Users\\david.smith\\.conda\\envs\\dev2\\lib\\site-packages\\geopandas\\plotting.py:678: UserWarning: The GeoDataFrame you are attempting to plot is empty. Nothing has been displayed.\n",
      "  warnings.warn(\n",
      "C:\\Users\\david.smith\\.conda\\envs\\dev2\\lib\\site-packages\\geopandas\\plotting.py:678: UserWarning: The GeoDataFrame you are attempting to plot is empty. Nothing has been displayed.\n",
      "  warnings.warn(\n",
      "C:\\Users\\david.smith\\.conda\\envs\\dev2\\lib\\site-packages\\geopandas\\plotting.py:678: UserWarning: The GeoDataFrame you are attempting to plot is empty. Nothing has been displayed.\n",
      "  warnings.warn(\n",
      "C:\\Users\\david.smith\\.conda\\envs\\dev2\\lib\\site-packages\\geopandas\\plotting.py:678: UserWarning: The GeoDataFrame you are attempting to plot is empty. Nothing has been displayed.\n",
      "  warnings.warn(\n",
      "No artists with labels found to put in legend.  Note that artists whose label start with an underscore are ignored when legend() is called with no argument.\n"
     ]
    }
   ],
   "source": [
    "# Convert data to DataFrame\n",
    "df = pd.DataFrame(nwm_nwps)\n",
    "geometry = [Point(xy) for xy in zip(df['longitude'], df['latitude'])]\n",
    "gdf = gpd.GeoDataFrame(df, geometry=geometry)\n",
    "\n",
    "# Load world and state shapefiles\n",
    "world = gpd.read_file(gpd.datasets.get_path('naturalearth_lowres'))\n",
    "us_states = gpd.read_file(os.path.join(os.getcwd(), 's_08mr23/s_08mr23.shp'))\n",
    "\n",
    "# Filter data for Hawaii and Puerto Rico\n",
    "gdf_hawaii = gdf[gdf['state_abbreviation'] == 'HI']\n",
    "gdf_pr = gdf[gdf['state_abbreviation'] == 'PR']\n",
    "\n",
    "# Plot for Hawaii including all islands\n",
    "fig, ax = plt.subplots(figsize=(12, 8))\n",
    "hawaii = us_states[us_states['STATE'] == 'HI']\n",
    "hawaii.plot(ax=ax, color='lightgray', edgecolor='black')\n",
    "\n",
    "# Plot points on the map based on status\n",
    "colors = {'action': 'yellow', 'minor': 'orange', 'moderate': 'red', 'major': 'magenta'}\n",
    "for status, color in colors.items():\n",
    "    gdf_hawaii[gdf_hawaii['status'] == status].plot(ax=ax, color=color, markersize=100, label=status, alpha=0.7, marker='o')\n",
    "\n",
    "ax.set_xlim([-161, -154])\n",
    "ax.set_ylim([18.5, 23.0]) # Adjusted to include smaller islands\n",
    "ax.set_title('NBM-Forced NWM Informed NWPS - Hawaii (All Islands)')\n",
    "plt.legend()\n",
    "plt.savefig('nbm_nwm_nwps_hawaii.png', dpi=300, bbox_inches='tight')\n",
    "plt.close()\n",
    "\n",
    "# Plot for Puerto Rico\n",
    "fig, ax = plt.subplots(figsize=(12, 8))\n",
    "pr = us_states[us_states['STATE'] == 'PR']\n",
    "pr.plot(ax=ax, color='lightgray', edgecolor='black')\n",
    "\n",
    "# Plot points on the map based on status\n",
    "for status, color in colors.items():\n",
    "    gdf_pr[gdf_pr['status'] == status].plot(ax=ax, color=color, markersize=100, label=status, alpha=0.7, marker='o')\n",
    "\n",
    "ax.set_xlim([-67.5, -65.5])\n",
    "ax.set_ylim([17.8, 18.6])\n",
    "ax.set_title('NBM-Forced NWM Informed NWPS - Puerto Rico')\n",
    "plt.legend()\n",
    "plt.savefig('nbm_nwm_nwps_puerto_rico.png', dpi=300, bbox_inches='tight')\n",
    "plt.close()\n"
   ]
  },
  {
   "cell_type": "code",
   "execution_count": null,
   "id": "84271365",
   "metadata": {},
   "outputs": [],
   "source": []
  },
  {
   "cell_type": "code",
   "execution_count": null,
   "id": "a4c4ce9c",
   "metadata": {},
   "outputs": [],
   "source": []
  },
  {
   "cell_type": "code",
   "execution_count": null,
   "id": "4937fada",
   "metadata": {},
   "outputs": [],
   "source": []
  }
 ],
 "metadata": {
  "kernelspec": {
   "display_name": "Python 3 (ipykernel)",
   "language": "python",
   "name": "python3"
  },
  "language_info": {
   "codemirror_mode": {
    "name": "ipython",
    "version": 3
   },
   "file_extension": ".py",
   "mimetype": "text/x-python",
   "name": "python",
   "nbconvert_exporter": "python",
   "pygments_lexer": "ipython3",
   "version": "3.9.12"
  }
 },
 "nbformat": 4,
 "nbformat_minor": 5
}
